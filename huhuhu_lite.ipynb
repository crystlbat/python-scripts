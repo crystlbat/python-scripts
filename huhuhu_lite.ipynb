{
 "cells": [
  {
   "cell_type": "code",
   "execution_count": null,
   "metadata": {},
   "outputs": [],
   "source": [
    "%pip install -U spacy"
   ]
  },
  {
   "cell_type": "code",
   "execution_count": 2,
   "metadata": {},
   "outputs": [],
   "source": [
    "import spacy\n",
    "import pandas as pd\n",
    "import openpyxl"
   ]
  },
  {
   "cell_type": "code",
   "execution_count": 2,
   "metadata": {},
   "outputs": [
    {
     "name": "stdout",
     "output_type": "stream",
     "text": [
      "c:\\Users\\WS595GW\\AppData\\Local\\Programs\\Python\\Python38\\lib\\site-packages\\certifi\\cacert.pem\n"
     ]
    }
   ],
   "source": [
    "!python -m certifi"
   ]
  },
  {
   "cell_type": "code",
   "execution_count": 7,
   "metadata": {},
   "outputs": [
    {
     "name": "stdout",
     "output_type": "stream",
     "text": [
      "Requirement already satisfied: goto-statement in c:\\users\\ws595gw\\appdata\\local\\programs\\python\\python38\\lib\\site-packages (1.2)\n",
      "Note: you may need to restart the kernel to use updated packages.\n"
     ]
    }
   ],
   "source": [
    "%pip install goto-statement"
   ]
  },
  {
   "cell_type": "code",
   "execution_count": 8,
   "metadata": {},
   "outputs": [],
   "source": [
    "from goto import with_goto"
   ]
  },
  {
   "cell_type": "code",
   "execution_count": 4,
   "metadata": {},
   "outputs": [
    {
     "name": "stderr",
     "output_type": "stream",
     "text": [
      "UsageError: %%python is a cell magic, but the cell body is empty.\n"
     ]
    }
   ],
   "source": [
    "%%python -m spacy download en_core_web_md\n"
   ]
  },
  {
   "cell_type": "code",
   "execution_count": null,
   "metadata": {},
   "outputs": [],
   "source": [
    "!pip install https://github.com/MartinoMensio/spacy-universal-sentence-encoder/releases/download/v0.4.5/en_use_md-0.4.5.tar.gz#en_use_md-0.4.5"
   ]
  },
  {
   "cell_type": "code",
   "execution_count": 3,
   "metadata": {},
   "outputs": [],
   "source": [
    "nlp=spacy.load('en_use_md')"
   ]
  },
  {
   "cell_type": "code",
   "execution_count": 4,
   "metadata": {},
   "outputs": [],
   "source": [
    "#@title Tuple version-->Use this to create output to CSV\n",
    "def speaker_split(x):\n",
    "  turn=[]\n",
    "  for index,turns in enumerate(x):\n",
    "    if index%2==0:\n",
    "      turn.append(turns)\n",
    "  return turn\n",
    "  \n",
    "def speaker_split_2(x):\n",
    "  turn=[]\n",
    "  for index,turns in enumerate(x):\n",
    "    if index%2!=0:\n",
    "      turn.append(turns)\n",
    "  return turn  \n",
    "\n",
    "def parser(keyword_list,sentence_list,conf):\n",
    "  out_list=[]\n",
    "  filt_out_li=[]\n",
    "  for sentence in sentence_list:\n",
    "    for words in keyword_list:\n",
    "      out_list.append(transcript_comber_rect_tuple(words,sentence,conf))\n",
    "  for items in out_list:\n",
    "    if items!=None:\n",
    "      filt_out_li.append(items)\n",
    "  return filt_out_li\n",
    "\n",
    "def transcript_comber_rect_tuple(phrase,sentence,min_similarity):\n",
    "  phrases_tokens=nlp(phrase)\n",
    "  sentence_tokens=nlp(sentence)\n",
    "  dict={'pharse_checked':phrase,\n",
    "          'phrase_matched':[],\n",
    "        'similarity_matched':[]}\n",
    "  for index,value in enumerate(sentence_tokens):\n",
    "    if index+len(phrases_tokens)<len(sentence_tokens):\n",
    "      if len(phrases_tokens)<6:\n",
    "        if phrases_tokens.similarity(sentence_tokens[index:index+len(phrases_tokens)+1])>min_similarity:\n",
    "          dict['phrase_matched'].append(sentence_tokens[index:index+len(phrases_tokens)+1])\n",
    "          dict['similarity_matched'].append(phrases_tokens.similarity(sentence_tokens[index:index+len(phrases_tokens)+1]))\n",
    "      \n",
    "      if phrases_tokens.similarity(sentence_tokens[index:index+len(phrases_tokens)])>min_similarity:\n",
    "        dict['phrase_matched'].append(sentence_tokens[index:index+len(phrases_tokens)])\n",
    "        dict['similarity_matched'].append(phrases_tokens.similarity(sentence_tokens[index:index+len(phrases_tokens)]))\n",
    "  \n",
    "      if len(phrases_tokens)>3:\n",
    "        if phrases_tokens.similarity(sentence_tokens[index:index+len(phrases_tokens)-1])>min_similarity:\n",
    "          dict['phrase_matched'].append(sentence_tokens[index:index+len(phrases_tokens)-1])\n",
    "          dict['similarity_matched'].append(phrases_tokens.similarity(sentence_tokens[index:index+len(phrases_tokens)-1]))\n",
    "  if len(dict['phrase_matched'])!=0:\n",
    "    return dict['pharse_checked'],dict['phrase_matched'],dict['similarity_matched'],dict['similarity_matched'].index(max(dict['similarity_matched'])),dict['phrase_matched'][dict['similarity_matched'].index(max(dict['similarity_matched']))]\n",
    "\n",
    "\n",
    "\n",
    "\n",
    "def analyser(speaker,row,categorie,confi):\n",
    "    list_turn=ana_df[speaker][row]\n",
    "    list_keyword=[items for items in key_df[categorie] if len(str(items))>3]\n",
    "    for items in parser(list_keyword,list_turn,confi):\n",
    "        print(f\"keyword_in rep=>{items[0]}----phrase detected==>{items[4]}\")"
   ]
  },
  {
   "cell_type": "code",
   "execution_count": 5,
   "metadata": {},
   "outputs": [],
   "source": [
    "import numpy as np"
   ]
  },
  {
   "cell_type": "code",
   "execution_count": null,
   "metadata": {},
   "outputs": [],
   "source": [
    "list_keyword=[items for items in key_df['Account Unlock'] if len(str(items))>3]\n",
    "list_keyword"
   ]
  },
  {
   "cell_type": "code",
   "execution_count": 6,
   "metadata": {},
   "outputs": [
    {
     "name": "stdout",
     "output_type": "stream",
     "text": [
      "Index(['Unnamed: 0', 'call ids', 'session ids', 'transcript', 'intents'], dtype='object')\n",
      "Index(['Account Unlock', 'Access/Permissions', 'Password Reset',\n",
      "       'User Software', 'User Hardware'],\n",
      "      dtype='object')\n",
      "<class 'str'>\n"
     ]
    }
   ],
   "source": [
    "\n",
    "key_df=pd.read_excel('C:/sim_engine/key_repo_colabo.xlsx',sheet_name='keyphrases')\n",
    "ana_df=pd.read_csv('C:/sim_engine/comb_out.csv')#input file containing all the collated results\n",
    "print(ana_df.columns)\n",
    "print(key_df.columns)\n",
    "print(type(key_df['Access/Permissions'][0]))"
   ]
  },
  {
   "cell_type": "code",
   "execution_count": 7,
   "metadata": {},
   "outputs": [
    {
     "name": "stdout",
     "output_type": "stream",
     "text": [
      "User_Software_293243240077784_188814_8145051_07-11-2022-15-41-00.wav-------->['Access/Permissions', 'User Hardware', 'User Software']\n",
      "User_Software_293243240078546_143034_8146941_07-11-2022-17-14-00.wav-------->['none']\n",
      "User_Software_293243323710382_187998_8146108_07-11-2022-16-20-00.wav-------->['User Software']\n",
      "User_Software_293247535079548_214121_8242416_07-15-2022-10-42-00.wav-------->['none']\n",
      "User_Software_293247535082811_122057_8255450_07-15-2022-15-11-00.wav-------->['User Hardware', 'Access/Permissions', 'User Software']\n",
      "User_Software_293247535083375_120562_8258679_07-15-2022-16-36-00.wav-------->['User Software']\n",
      "User_Software_293247535101274_187880_8307355_07-19-2022-08-17-00.wav-------->['none']\n",
      "User_Software_293247618704128_123039_8228125_07-14-2022-15-52-00.wav-------->['none']\n",
      "User_Software_293247618704415_120562_8229701_07-14-2022-16-33-00.wav-------->['Access/Permissions']\n",
      "User_Software_293247618707960_180284_8240317_07-15-2022-10-02-00.wav-------->['User Hardware']\n",
      "User_Software_293247618711478_188746_8256731_07-15-2022-15-41-00.wav-------->['User Software', 'User Hardware']\n",
      "User_Software_293251830105416_250300_8425463_07-22-2022-15-12-00.wav-------->['Access/Permissions', 'User Software', 'Account Unlock']\n",
      "User_Software_293251913732602_242811_8435999_07-24-2022-15-56-00.wav-------->['Access/Permissions', 'Account Unlock', 'User Software', 'User Hardware']\n",
      "access_permissions_11726725.wav-------->['none']\n",
      "access_permissions_11733336.wav-------->['Password Reset']\n",
      "access_permissions_11743914.wav-------->['User Hardware', 'Access/Permissions', 'User Software']\n",
      "access_permissions_11771005.wav-------->['Account Unlock', 'Access/Permissions']\n",
      "access_permissions_11772871.wav-------->['none']\n",
      "access_permissions_11783479.wav-------->['Account Unlock', 'Access/Permissions']\n",
      "access_permissions_11798024.wav-------->['Access/Permissions']\n",
      "access_permissions_11801526.wav-------->['Password Reset', 'User Software', 'Access/Permissions', 'Account Unlock']\n",
      "access_permissions_11803520.wav-------->['Account Unlock', 'Access/Permissions']\n",
      "access_permissions_12869162.wav-------->['Password Reset']\n",
      "access_permissions_12869414.wav-------->['none']\n"
     ]
    },
    {
     "name": "stderr",
     "output_type": "stream",
     "text": [
      "C:\\Users\\WS595GW\\AppData\\Local\\Temp\\ipykernel_15660\\2856015615.py:16: SettingWithCopyWarning: \n",
      "A value is trying to be set on a copy of a slice from a DataFrame\n",
      "\n",
      "See the caveats in the documentation: https://pandas.pydata.org/pandas-docs/stable/user_guide/indexing.html#returning-a-view-versus-a-copy\n",
      "  ana_df['intents to check'][index]=to_be_checked\n"
     ]
    }
   ],
   "source": [
    "ana_df['turns_in_list']=ana_df['transcript'].apply(lambda x: x.split('\\r\\n'))\n",
    "ana_df['speaker_1']=ana_df['turns_in_list'].apply(speaker_split)\n",
    "ana_df['speaker_2']=ana_df['turns_in_list'].apply(speaker_split_2)\n",
    "ana_df['intents_detected']=ana_df['intents'].apply(lambda x: x.split('\\n') )\n",
    "ana_df['intents to check']=[\"none\"]*len(ana_df['call ids'])\n",
    "for index,items in enumerate(ana_df['intents_detected']):\n",
    "  to_be_checked=[]\n",
    "  for item in items:\n",
    "    if item.lower()!='no flows detected yet' and len(item)>3 and not item.lower().__contains__('access'):\n",
    "      to_be_checked.append(item.replace('\\r',''))\n",
    "    elif item.lower().__contains__('access'):\n",
    "      to_be_checked.append('Access/Permissions')\n",
    "    else:\n",
    "      to_be_checked.append(\"none\")\n",
    "  print(f\"{ana_df['call ids'][index]}-------->{to_be_checked}\")\n",
    "  ana_df['intents to check'][index]=to_be_checked\n",
    "ana_df.to_csv(r'C:/sim_engine/output_for_ref.csv', header=True, index=True)"
   ]
  },
  {
   "cell_type": "code",
   "execution_count": 29,
   "metadata": {},
   "outputs": [
    {
     "name": "stdout",
     "output_type": "stream",
     "text": [
      "keyword_in rep=>power chart is not opening----phrase detected==>power chart in cerner\n",
      "keyword_in rep=>not allowing me to click to open the power chart----phrase detected==>i was supposed to get access for power chart in\n"
     ]
    }
   ],
   "source": [
    "list_turns=ana_df['speaker_2'][6]\n",
    "list_keywords=key_df['User Software'][:30]\n",
    "for items in parser(list_keywords,list_turns,0.6):\n",
    "  print(f\"keyword_in rep=>{items[0]}----phrase detected==>{items[4]}\")"
   ]
  },
  {
   "attachments": {},
   "cell_type": "markdown",
   "metadata": {},
   "source": [
    "Enter the details to start checking for individual(not recoomended)"
   ]
  },
  {
   "cell_type": "code",
   "execution_count": 7,
   "metadata": {},
   "outputs": [
    {
     "name": "stdout",
     "output_type": "stream",
     "text": [
      "termintating : bye bye\n",
      "\n",
      "\n"
     ]
    }
   ],
   "source": [
    "turns_in_channel='speaker_2'\n",
    "checker=True\n",
    "counter=0\n",
    "stop=0\n",
    "swap=False\n",
    "loop_term=False\n",
    "while checker is True:\n",
    "    category_selection=int(input(\"enter the category to be selected: \\n 1- Account Unlock 2- Password Reset \\n 3- Access/perm 4- User Software 5-User Hardware \\n 6-stop process!!!! \\n \"))\n",
    "    row_selection=int(input(\"enter the row from the output_fin sheet : \"))\n",
    "    change_speaker_channel=input(\"change speaker 1 and 2,(default is 2): y/n: \")\n",
    "    if change_speaker_channel.lower()=='y':\n",
    "        if turns_in_channel.__contains__('_2'):\n",
    "            turns_in_channel='speaker_1'\n",
    "            swap=True\n",
    "        else:\n",
    "            pass\n",
    "    if category_selection==1 and stop!=1:\n",
    "        print('Account Unlock selected ')\n",
    "        analyser(turns_in_channel,row_selection,'Account Unlock',0.6)\n",
    "    elif category_selection==2 and stop!=1:\n",
    "        print('Password Reset selected ')\n",
    "        analyser(turns_in_channel,row_selection,'Password Reset',0.6)\n",
    "    elif category_selection==3 and stop!=1:\n",
    "        print('Access/Permissions selected ')\n",
    "        analyser(turns_in_channel,row_selection,'Access/Permissions',0.6)\n",
    "    elif category_selection==4 and stop!=1:\n",
    "        print('User Software selected ')\n",
    "        analyser(turns_in_channel,row_selection,'User Software',0.6)\n",
    "    elif category_selection==5 and stop!=1:\n",
    "        print('User Hardware selected ')\n",
    "        analyser(turns_in_channel,row_selection,'User Hardware',0.6)\n",
    "    elif category_selection==6 or stop==1:\n",
    "        print(\"termintating : bye bye\")\n",
    "        checker = False\n",
    "    else:\n",
    "        print(\"enter valid selection\")\n",
    "        checker = False\n",
    "    turns_in_channel='speaker_2'\n",
    "    if swap==True:\n",
    "        print('swapping to default channel:speaker_2')\n",
    "        swap=False\n",
    "    stop=int(input(\"stop?(1/0): \"))\n",
    "    print('\\n')"
   ]
  },
  {
   "attachments": {},
   "cell_type": "markdown",
   "metadata": {},
   "source": [
    "ALL Checker"
   ]
  },
  {
   "cell_type": "code",
   "execution_count": 41,
   "metadata": {},
   "outputs": [],
   "source": [
    "\n",
    "\n",
    "\n",
    "def all_checker(turns_in_channel,row_select,loop_term):\n",
    "    row_selection=row_select\n",
    "    checker_loop=loop_term\n",
    "    while checker_loop!=True:\n",
    "        confide=float(input(\"please enter a confidence value: reccomended bw 0.75 and 0.9: \"))\n",
    "        change_speaker_channel=input(\"change speaker 1 and 2,(default is 2): y/n: \")\n",
    "        if change_speaker_channel.lower()=='y':\n",
    "            if turns_in_channel.__contains__('_2'):\n",
    "                turns_in_channel='speaker_1'\n",
    "                swap=True\n",
    "            else:\n",
    "                pass\n",
    "        print('\\nacc unlock detected:')\n",
    "        analyser(turns_in_channel,row_selection,'Account Unlock',confide)\n",
    "        print('\\nPassword Reset deteceted:')\n",
    "        analyser(turns_in_channel,row_selection,'Password Reset',confide)\n",
    "        print('\\nAccess/Permissions:')\n",
    "        analyser(turns_in_channel,row_selection,'Access/Permissions',confide)\n",
    "        print('\\nUser Software:')\n",
    "        analyser(turns_in_channel,row_selection,'User Software',confide)\n",
    "        print('\\nUser Hardware:')\n",
    "        analyser(turns_in_channel,row_selection,'User Hardware',confide)\n",
    "        turns_in_channel='speaker_2'\n",
    "        change_row=input(\"change rows to analyze? y/n: \")\n",
    "        if change_row.lower()=='y':\n",
    "            row_selection=int(input(\"enter the row from the output_fin sheet : \"))\n",
    "        else:\n",
    "            pass\n",
    "\n",
    "        stop_all_check=int(input(\"stop?(1/0): \"))\n",
    "        if stop_all_check==1:\n",
    "            checker_loop=True\n",
    "        else:\n",
    "            pass\n",
    "\n",
    "\n"
   ]
  },
  {
   "cell_type": "code",
   "execution_count": null,
   "metadata": {},
   "outputs": [],
   "source": [
    "turn_in_channel='speaker_2'\n",
    "checker=True\n",
    "counter=0\n",
    "stop=0\n",
    "swap=False\n",
    "loop_term=False\n",
    "\n",
    "rows_selection=int(input(\"enter the row from the output_fin sheet : \"))\n",
    "print(f\"row selected {row_selection}\\n\")\n",
    "all_checker(turn_in_channel,rows_selection,loop_term)\n"
   ]
  },
  {
   "attachments": {},
   "cell_type": "markdown",
   "metadata": {},
   "source": [
    "UI version"
   ]
  },
  {
   "cell_type": "code",
   "execution_count": 8,
   "metadata": {},
   "outputs": [],
   "source": [
    "def analyzer_ui(speake_select,row_num,issue_type,confidence):\n",
    "    out_re=[]\n",
    "    keyphrases_detected=[]\n",
    "    list_turns=ana_df[f\"speaker_{speake_select}\"][row_num]\n",
    "    list_keywords=[items for items in key_df[issue_type] if len(str(items))>3]\n",
    "    for items in parser(list_keywords,list_turns,confidence):\n",
    "        out_re.append(f\"keyword_in rep=>{items[0]}----phrase detected==>{items[4]}\")\n",
    "        keyphrases_detected.append(items[4])\n",
    "    return out_re,keyphrases_detected\n",
    "\n",
    "def all_checker_ui(turn_in_chanl,row_select,confide,check_list):\n",
    "    to_be_highlighted={}\n",
    "    check_li=check_list.split(\",\")\n",
    "    ref_dict={'1':'Account Unlock','2':'Password Reset','5':'User Hardware','4':'User Software','3':'Access/Permissions'}\n",
    "    for item in check_li:\n",
    "        text_box_out.insert('end',f'\\n {ref_dict[item]} detected:\\n----------------------------\\n ')\n",
    "        item_list,keyphrase_list=analyzer_ui(turn_in_chanl,row_select,ref_dict[item],confide)\n",
    "        for items in item_list:\n",
    "            text_box_out.insert('end',f\"{items}\\n\\n\")\n",
    "        to_be_highlighted[item]=keyphrase_list\n",
    "    return to_be_highlighted\n",
    "    \n",
    "\n"
   ]
  },
  {
   "cell_type": "code",
   "execution_count": 106,
   "metadata": {},
   "outputs": [
    {
     "name": "stdout",
     "output_type": "stream",
     "text": [
      "['2']\n"
     ]
    }
   ],
   "source": [
    "li='2'\n",
    "li_list=li.split(\",\")\n",
    "print(li_list)"
   ]
  },
  {
   "cell_type": "code",
   "execution_count": 9,
   "metadata": {},
   "outputs": [],
   "source": [
    "import tkinter as tk\n",
    "from tkinter import font\n",
    "\n",
    "\n",
    "root = tk.Tk()\n",
    "my_font = font.Font(weight='bold')\n",
    "root.geometry(\"1000x600\")\n",
    "root.config(bd=10, relief=\"sunken\",bg='#482c40')\n",
    "for i in range(10):\n",
    "    root.grid_columnconfigure(i, weight=1, minsize=10)\n",
    "    root.grid_rowconfigure(i, weight=1, minsize=10)\n",
    "\n",
    "label1 = tk.Label(root, text=\"enter the row number(refer the out):         \")\n",
    "label1.grid(row=0, column=0,sticky=\"nsew\")\n",
    "\n",
    "entry1 = tk.Entry(root)\n",
    "entry1.grid(row=0, column=1)\n",
    "\n",
    "label2 = tk.Label(root, text=\"enter the category to be selected: \\n 1- Account Unlock   2- Password Reset   3- Access/perm\\n 4- User Software   5-User Hardware \\n  \")\n",
    "label2.grid(row=0, column=2,padx=10,pady=5,sticky=\"nsew\")\n",
    "\n",
    "entry2 = tk.Entry(root)\n",
    "entry2.grid(row=0, column=3)\n",
    "\n",
    "label3 = tk.Label(root, text=\"enter the speaker channel(1 or 2)\")\n",
    "label3.grid(row=2, column=0,padx=10,sticky=\"nsew\")\n",
    "\n",
    "entry3 = tk.Entry(root)\n",
    "entry3.grid(row=2, column=1,padx=10,sticky=\"nsew\")\n",
    "\n",
    "label4 = tk.Label(root, text=\"enter the confidence level(0.2-0.99): \")\n",
    "label4.grid(row=1, column=2,padx=10)\n",
    "\n",
    "entry4 = tk.Entry(root)\n",
    "entry4.grid(row=1, column=3,padx=10,sticky=\"nsew\")\n",
    "\n",
    "\n",
    "label5 = tk.Label(root, text=\"call id: \\nsession id: \")\n",
    "label5.grid(row=3, column=0,pady=10,)\n",
    "label6 = tk.Label(root, text=\"detected by collabo: \")\n",
    "label6.grid(row=3, column=2,pady=10,)\n",
    "text_box_transcript = tk.Text(root, height=28, width=50)\n",
    "text_box_transcript.grid(row=4, column=0, rowspan=10 ,columnspan=2, pady=10,padx=5,sticky=\"nsew\")\n",
    "\n",
    "\n",
    "text_box_out = tk.Text(root, height=28, width=80)\n",
    "text_box_out.grid(row=4, column=2, rowspan=10 ,columnspan=4, pady=10,padx=5,sticky=\"nsew\")\n",
    "\n",
    "\n",
    "def show_values():\n",
    "    text_box_transcript.delete(\"1.0\", tk.END)\n",
    "    text_box_out.delete(\"1.0\", tk.END)\n",
    "    row_number = int(entry1.get())\n",
    "    selection_op = entry2.get()\n",
    "    print(selection_op)\n",
    "    speaker_selection=int(entry3.get())\n",
    "    confi_entry=float(entry4.get())\n",
    "    label5.config(text=f\"call id:{ana_df['call ids'][row_number]} \\nsession id:{ana_df['session ids'][row_number]}\")\n",
    "    label6.config(text=f\"AI detected: {ana_df['intents to check'][row_number]}\")\n",
    "    if speaker_selection==1 or speaker_selection==2:\n",
    "        \n",
    "        for items in ana_df[f'speaker_{speaker_selection}'][row_number]:\n",
    "             text_box_transcript.insert(tk.END,f\"{items}\\n\\n\")\n",
    "        list_highgiht=all_checker_ui(speaker_selection,row_number,float(confi_entry),selection_op)\n",
    "        print(list_highgiht)\n",
    "    else:\n",
    "        text_box_transcript.insert(tk.END,\"please enter a value of 1 and 2\")\n",
    "    \n",
    "    \n",
    "\n",
    "confirm_button = tk.Button(root, text=\"Confirm\", command=show_values)\n",
    "confirm_button.grid(row=0, column=4,pady=10,sticky=\"nsew\")\n",
    "\n",
    "root.mainloop()\n"
   ]
  },
  {
   "attachments": {},
   "cell_type": "markdown",
   "metadata": {},
   "source": [
    "Hola modified UI version"
   ]
  },
  {
   "cell_type": "code",
   "execution_count": 12,
   "metadata": {},
   "outputs": [
    {
     "name": "stdout",
     "output_type": "stream",
     "text": [
      "\n"
     ]
    },
    {
     "name": "stderr",
     "output_type": "stream",
     "text": [
      "Exception in Tkinter callback\n",
      "Traceback (most recent call last):\n",
      "  File \"c:\\Users\\WS595GW\\AppData\\Local\\Programs\\Python\\Python38\\lib\\tkinter\\__init__.py\", line 1883, in __call__\n",
      "    return self.func(*args)\n",
      "  File \"C:\\Users\\WS595GW\\AppData\\Local\\Temp\\ipykernel_15660\\2270681177.py\", line 67, in show_values\n",
      "    dict_highgiht=all_checker_ui(speaker_selection,row_number,float(confi_entry),selection_op)\n",
      "  File \"C:\\Users\\WS595GW\\AppData\\Local\\Temp\\ipykernel_15660\\2150636108.py\", line 16, in all_checker_ui\n",
      "    text_box_out.insert('end',f'\\n {ref_dict[item]} detected:\\n----------------------------\\n ')\n",
      "KeyError: ''\n"
     ]
    },
    {
     "name": "stdout",
     "output_type": "stream",
     "text": [
      "\n"
     ]
    },
    {
     "name": "stderr",
     "output_type": "stream",
     "text": [
      "Exception in Tkinter callback\n",
      "Traceback (most recent call last):\n",
      "  File \"c:\\Users\\WS595GW\\AppData\\Local\\Programs\\Python\\Python38\\lib\\tkinter\\__init__.py\", line 1883, in __call__\n",
      "    return self.func(*args)\n",
      "  File \"C:\\Users\\WS595GW\\AppData\\Local\\Temp\\ipykernel_15660\\2270681177.py\", line 67, in show_values\n",
      "    dict_highgiht=all_checker_ui(speaker_selection,row_number,float(confi_entry),selection_op)\n",
      "  File \"C:\\Users\\WS595GW\\AppData\\Local\\Temp\\ipykernel_15660\\2150636108.py\", line 16, in all_checker_ui\n",
      "    text_box_out.insert('end',f'\\n {ref_dict[item]} detected:\\n----------------------------\\n ')\n",
      "KeyError: ''\n"
     ]
    },
    {
     "name": "stdout",
     "output_type": "stream",
     "text": [
      "3,4,5\n",
      "3,4,5\n",
      "5\n",
      "5\n",
      "5\n",
      "5\n",
      "5\n",
      "5\n",
      "5\n",
      "5\n",
      "5\n",
      "5\n",
      "5\n",
      "3\n",
      "3\n",
      "3\n",
      "4\n",
      "3\n",
      "3\n",
      "3\n",
      "3\n",
      "3\n",
      "3\n",
      "4\n",
      "\n"
     ]
    },
    {
     "name": "stderr",
     "output_type": "stream",
     "text": [
      "Exception in Tkinter callback\n",
      "Traceback (most recent call last):\n",
      "  File \"c:\\Users\\WS595GW\\AppData\\Local\\Programs\\Python\\Python38\\lib\\tkinter\\__init__.py\", line 1883, in __call__\n",
      "    return self.func(*args)\n",
      "  File \"C:\\Users\\WS595GW\\AppData\\Local\\Temp\\ipykernel_15660\\2270681177.py\", line 67, in show_values\n",
      "    dict_highgiht=all_checker_ui(speaker_selection,row_number,float(confi_entry),selection_op)\n",
      "  File \"C:\\Users\\WS595GW\\AppData\\Local\\Temp\\ipykernel_15660\\2150636108.py\", line 16, in all_checker_ui\n",
      "    text_box_out.insert('end',f'\\n {ref_dict[item]} detected:\\n----------------------------\\n ')\n",
      "KeyError: ''\n"
     ]
    },
    {
     "name": "stdout",
     "output_type": "stream",
     "text": [
      "\n"
     ]
    },
    {
     "name": "stderr",
     "output_type": "stream",
     "text": [
      "Exception in Tkinter callback\n",
      "Traceback (most recent call last):\n",
      "  File \"c:\\Users\\WS595GW\\AppData\\Local\\Programs\\Python\\Python38\\lib\\tkinter\\__init__.py\", line 1883, in __call__\n",
      "    return self.func(*args)\n",
      "  File \"C:\\Users\\WS595GW\\AppData\\Local\\Temp\\ipykernel_15660\\2270681177.py\", line 67, in show_values\n",
      "    dict_highgiht=all_checker_ui(speaker_selection,row_number,float(confi_entry),selection_op)\n",
      "  File \"C:\\Users\\WS595GW\\AppData\\Local\\Temp\\ipykernel_15660\\2150636108.py\", line 16, in all_checker_ui\n",
      "    text_box_out.insert('end',f'\\n {ref_dict[item]} detected:\\n----------------------------\\n ')\n",
      "KeyError: ''\n"
     ]
    },
    {
     "name": "stdout",
     "output_type": "stream",
     "text": [
      "4\n",
      "4\n",
      "4\n",
      "4\n",
      "\n"
     ]
    },
    {
     "name": "stderr",
     "output_type": "stream",
     "text": [
      "Exception in Tkinter callback\n",
      "Traceback (most recent call last):\n",
      "  File \"c:\\Users\\WS595GW\\AppData\\Local\\Programs\\Python\\Python38\\lib\\tkinter\\__init__.py\", line 1883, in __call__\n",
      "    return self.func(*args)\n",
      "  File \"C:\\Users\\WS595GW\\AppData\\Local\\Temp\\ipykernel_15660\\2270681177.py\", line 67, in show_values\n",
      "    dict_highgiht=all_checker_ui(speaker_selection,row_number,float(confi_entry),selection_op)\n",
      "  File \"C:\\Users\\WS595GW\\AppData\\Local\\Temp\\ipykernel_15660\\2150636108.py\", line 16, in all_checker_ui\n",
      "    text_box_out.insert('end',f'\\n {ref_dict[item]} detected:\\n----------------------------\\n ')\n",
      "KeyError: ''\n"
     ]
    },
    {
     "name": "stdout",
     "output_type": "stream",
     "text": [
      "4\n",
      "\n"
     ]
    },
    {
     "name": "stderr",
     "output_type": "stream",
     "text": [
      "Exception in Tkinter callback\n",
      "Traceback (most recent call last):\n",
      "  File \"c:\\Users\\WS595GW\\AppData\\Local\\Programs\\Python\\Python38\\lib\\tkinter\\__init__.py\", line 1883, in __call__\n",
      "    return self.func(*args)\n",
      "  File \"C:\\Users\\WS595GW\\AppData\\Local\\Temp\\ipykernel_15660\\2270681177.py\", line 67, in show_values\n",
      "    dict_highgiht=all_checker_ui(speaker_selection,row_number,float(confi_entry),selection_op)\n",
      "  File \"C:\\Users\\WS595GW\\AppData\\Local\\Temp\\ipykernel_15660\\2150636108.py\", line 16, in all_checker_ui\n",
      "    text_box_out.insert('end',f'\\n {ref_dict[item]} detected:\\n----------------------------\\n ')\n",
      "KeyError: ''\n"
     ]
    },
    {
     "name": "stdout",
     "output_type": "stream",
     "text": [
      "3\n",
      "\n"
     ]
    },
    {
     "name": "stderr",
     "output_type": "stream",
     "text": [
      "Exception in Tkinter callback\n",
      "Traceback (most recent call last):\n",
      "  File \"c:\\Users\\WS595GW\\AppData\\Local\\Programs\\Python\\Python38\\lib\\tkinter\\__init__.py\", line 1883, in __call__\n",
      "    return self.func(*args)\n",
      "  File \"C:\\Users\\WS595GW\\AppData\\Local\\Temp\\ipykernel_15660\\2270681177.py\", line 67, in show_values\n",
      "    dict_highgiht=all_checker_ui(speaker_selection,row_number,float(confi_entry),selection_op)\n",
      "  File \"C:\\Users\\WS595GW\\AppData\\Local\\Temp\\ipykernel_15660\\2150636108.py\", line 16, in all_checker_ui\n",
      "    text_box_out.insert('end',f'\\n {ref_dict[item]} detected:\\n----------------------------\\n ')\n",
      "KeyError: ''\n"
     ]
    },
    {
     "name": "stdout",
     "output_type": "stream",
     "text": [
      "5\n",
      "5\n",
      "5\n",
      "\n"
     ]
    },
    {
     "name": "stderr",
     "output_type": "stream",
     "text": [
      "Exception in Tkinter callback\n",
      "Traceback (most recent call last):\n",
      "  File \"c:\\Users\\WS595GW\\AppData\\Local\\Programs\\Python\\Python38\\lib\\tkinter\\__init__.py\", line 1883, in __call__\n",
      "    return self.func(*args)\n",
      "  File \"C:\\Users\\WS595GW\\AppData\\Local\\Temp\\ipykernel_15660\\2270681177.py\", line 67, in show_values\n",
      "    dict_highgiht=all_checker_ui(speaker_selection,row_number,float(confi_entry),selection_op)\n",
      "  File \"C:\\Users\\WS595GW\\AppData\\Local\\Temp\\ipykernel_15660\\2150636108.py\", line 16, in all_checker_ui\n",
      "    text_box_out.insert('end',f'\\n {ref_dict[item]} detected:\\n----------------------------\\n ')\n",
      "KeyError: ''\n"
     ]
    },
    {
     "name": "stdout",
     "output_type": "stream",
     "text": [
      "4\n",
      "5\n",
      "\n"
     ]
    },
    {
     "name": "stderr",
     "output_type": "stream",
     "text": [
      "Exception in Tkinter callback\n",
      "Traceback (most recent call last):\n",
      "  File \"c:\\Users\\WS595GW\\AppData\\Local\\Programs\\Python\\Python38\\lib\\tkinter\\__init__.py\", line 1883, in __call__\n",
      "    return self.func(*args)\n",
      "  File \"C:\\Users\\WS595GW\\AppData\\Local\\Temp\\ipykernel_15660\\2270681177.py\", line 67, in show_values\n",
      "    dict_highgiht=all_checker_ui(speaker_selection,row_number,float(confi_entry),selection_op)\n",
      "  File \"C:\\Users\\WS595GW\\AppData\\Local\\Temp\\ipykernel_15660\\2150636108.py\", line 16, in all_checker_ui\n",
      "    text_box_out.insert('end',f'\\n {ref_dict[item]} detected:\\n----------------------------\\n ')\n",
      "KeyError: ''\n"
     ]
    },
    {
     "name": "stdout",
     "output_type": "stream",
     "text": [
      "3\n",
      "4\n",
      "4\n",
      "4\n",
      "4\n",
      "4\n",
      "4\n",
      "4\n",
      "4\n",
      "4\n",
      "1\n",
      "\n"
     ]
    },
    {
     "name": "stderr",
     "output_type": "stream",
     "text": [
      "Exception in Tkinter callback\n",
      "Traceback (most recent call last):\n",
      "  File \"c:\\Users\\WS595GW\\AppData\\Local\\Programs\\Python\\Python38\\lib\\tkinter\\__init__.py\", line 1883, in __call__\n",
      "    return self.func(*args)\n",
      "  File \"C:\\Users\\WS595GW\\AppData\\Local\\Temp\\ipykernel_15660\\2270681177.py\", line 67, in show_values\n",
      "    dict_highgiht=all_checker_ui(speaker_selection,row_number,float(confi_entry),selection_op)\n",
      "  File \"C:\\Users\\WS595GW\\AppData\\Local\\Temp\\ipykernel_15660\\2150636108.py\", line 16, in all_checker_ui\n",
      "    text_box_out.insert('end',f'\\n {ref_dict[item]} detected:\\n----------------------------\\n ')\n",
      "KeyError: ''\n"
     ]
    },
    {
     "name": "stdout",
     "output_type": "stream",
     "text": [
      "3\n",
      "3\n",
      "1\n",
      "1\n",
      "5\n",
      "5\n",
      "5\n"
     ]
    }
   ],
   "source": [
    "import tkinter as tk\n",
    "from tkinter import font\n",
    "import random\n",
    "\n",
    "root = tk.Tk()\n",
    "my_font = font.Font(weight='bold',size='12')\n",
    "root.geometry(\"1100x600\")\n",
    "root.config(bd=10, relief=\"sunken\",bg='#482c40')\n",
    "for i in range(10):\n",
    "    root.grid_columnconfigure(i, weight=1, minsize=10)\n",
    "    root.grid_rowconfigure(i, weight=1, minsize=10)\n",
    "\n",
    "label1 = tk.Label(root, text=\"enter the row number(refer the out):         \")\n",
    "label1.grid(row=0, column=0,sticky=\"nsew\")\n",
    "\n",
    "entry1 = tk.Entry(root)\n",
    "entry1.grid(row=0, column=1)\n",
    "\n",
    "label2 = tk.Label(root, text=\"enter the category to be selected: \\n 1- Account Unlock   2- Password Reset   3- Access/perm\\n 4- User Software   5-User Hardware \\n  \")\n",
    "label2.grid(row=0, column=2,padx=10,pady=5,sticky=\"nsew\")\n",
    "\n",
    "entry2 = tk.Entry(root)\n",
    "entry2.grid(row=0, column=3)\n",
    "\n",
    "label3 = tk.Label(root, text=\"enter the speaker channel(1 or 2)\")\n",
    "label3.grid(row=2, column=0,padx=10,sticky=\"nsew\")\n",
    "\n",
    "entry3 = tk.Entry(root)\n",
    "entry3.grid(row=2, column=1,padx=10,sticky=\"nsew\")\n",
    "\n",
    "label4 = tk.Label(root, text=\"enter the confidence level(0.2-0.99): \")\n",
    "label4.grid(row=1, column=2,padx=10)\n",
    "\n",
    "entry4 = tk.Entry(root)\n",
    "entry4.grid(row=1, column=3,padx=10,sticky=\"nsew\")\n",
    "\n",
    "\n",
    "label5 = tk.Label(root, text=\"call id: \\nsession id: \")\n",
    "label5.grid(row=3, column=0,pady=10,)\n",
    "label6 = tk.Label(root, text=\"detected by collabo: \")\n",
    "label6.grid(row=3, column=2,pady=10,)\n",
    "text_box_transcript = tk.Text(root, height=28, width=50)\n",
    "text_box_transcript.grid(row=4, column=0, rowspan=10 ,columnspan=2, pady=10,padx=5,sticky=\"nsew\")\n",
    "\n",
    "\n",
    "text_box_out = tk.Text(root, height=28, width=80)\n",
    "text_box_out.grid(row=4, column=2, rowspan=10 ,columnspan=4, pady=10,padx=5,sticky=\"nsew\")\n",
    "\n",
    "\n",
    "def show_values():\n",
    "    color_li=['yellow','red','blue','green','orange']\n",
    "    text_box_transcript.delete(\"1.0\", 'end')\n",
    "    text_box_out.delete(\"1.0\", 'end')\n",
    "    row_number = int(entry1.get())\n",
    "    selection_op = entry2.get()\n",
    "    print(selection_op)\n",
    "    speaker_selection=int(entry3.get())\n",
    "    confi_entry=float(entry4.get())\n",
    "    label5.config(text=f\"call id:{ana_df['call ids'][row_number]} \\nsession id:{ana_df['session ids'][row_number]}\")\n",
    "    label6.config(text=f\"AI detected: {ana_df['intents to check'][row_number]}\")\n",
    "    \n",
    "  \n",
    "    if speaker_selection==1 or speaker_selection==2:\n",
    "        \n",
    "        for items in ana_df[f'speaker_{speaker_selection}'][row_number]:\n",
    "             text_box_transcript.insert('end',f\"{items}\\n\\n\")\n",
    "        dict_highgiht=all_checker_ui(speaker_selection,row_number,float(confi_entry),selection_op)\n",
    "        #print(dict_highgiht)\n",
    "        for key in dict_highgiht:\n",
    "            selected_color=random.choice(color_li)\n",
    "            list_highlight_refined=[]\n",
    "            for items in dict_highgiht[key]:\n",
    "                if str(items) not in list_highlight_refined:\n",
    "                    list_highlight_refined.append(str(items))\n",
    "            for word in list_highlight_refined:\n",
    "                start = '1.0'\n",
    "                while True:\n",
    "                    start = text_box_transcript.search(word, start, stopindex='end')\n",
    "                    if not start:\n",
    "                        break\n",
    "                    end = f\"{start} + {len(word)}c\"\n",
    "                    text_box_transcript.tag_add(f\"highlight_{key}\", start, end)\n",
    "                    start = end\n",
    "            text_box_transcript.tag_config(f\"highlight_{key}\", background=selected_color,font=my_font)\n",
    "            color_li.remove(selected_color)\n",
    "            selected_color=random.choice(color_li)\n",
    "            #print(color_li)\n",
    "    else:\n",
    "        text_box_transcript.insert('end',\"please enter a value of 1 and 2\")\n",
    "    \n",
    "    \n",
    "\n",
    "confirm_button = tk.Button(root, text=\"Confirm\", command=show_values)\n",
    "confirm_button.grid(row=0, column=4,pady=10,sticky=\"nsew\")\n",
    "\n",
    "root.mainloop()\n"
   ]
  },
  {
   "cell_type": "code",
   "execution_count": 27,
   "metadata": {},
   "outputs": [
    {
     "name": "stdout",
     "output_type": "stream",
     "text": [
      "12\n",
      "22\n",
      "33\n"
     ]
    }
   ],
   "source": [
    "dict_a={1:12,2:22,3:33}\n",
    "for key in dict_a:\n",
    "    print(dict_a[key])"
   ]
  }
 ],
 "metadata": {
  "kernelspec": {
   "display_name": "Python 3",
   "language": "python",
   "name": "python3"
  },
  "language_info": {
   "codemirror_mode": {
    "name": "ipython",
    "version": 3
   },
   "file_extension": ".py",
   "mimetype": "text/x-python",
   "name": "python",
   "nbconvert_exporter": "python",
   "pygments_lexer": "ipython3",
   "version": "3.8.0"
  },
  "orig_nbformat": 4,
  "vscode": {
   "interpreter": {
    "hash": "af7241fdc53ced16294faed3cf9631b918b475b732ceaa14dc35b2cb69e11da4"
   }
  }
 },
 "nbformat": 4,
 "nbformat_minor": 2
}
